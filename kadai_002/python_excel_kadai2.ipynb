{
  "nbformat": 4,
  "nbformat_minor": 0,
  "metadata": {
    "colab": {
      "provenance": []
    },
    "kernelspec": {
      "name": "python3",
      "display_name": "Python 3"
    },
    "language_info": {
      "name": "python"
    }
  },
  "cells": [
    {
      "cell_type": "code",
      "execution_count": 1,
      "metadata": {
        "colab": {
          "base_uri": "https://localhost:8080/"
        },
        "id": "wl6wlpWxfGcG",
        "outputId": "6c4744bb-c9a0-48fb-8726-444a7316abdd"
      },
      "outputs": [
        {
          "output_type": "stream",
          "name": "stdout",
          "text": [
            "Collecting openpyxl==3.1.0\n",
            "  Downloading openpyxl-3.1.0-py2.py3-none-any.whl.metadata (2.5 kB)\n",
            "Requirement already satisfied: et-xmlfile in /usr/local/lib/python3.11/dist-packages (from openpyxl==3.1.0) (2.0.0)\n",
            "Downloading openpyxl-3.1.0-py2.py3-none-any.whl (250 kB)\n",
            "\u001b[2K   \u001b[90m━━━━━━━━━━━━━━━━━━━━━━━━━━━━━━━━━━━━━━━━\u001b[0m \u001b[32m250.0/250.0 kB\u001b[0m \u001b[31m3.5 MB/s\u001b[0m eta \u001b[36m0:00:00\u001b[0m\n",
            "\u001b[?25hInstalling collected packages: openpyxl\n",
            "  Attempting uninstall: openpyxl\n",
            "    Found existing installation: openpyxl 3.1.5\n",
            "    Uninstalling openpyxl-3.1.5:\n",
            "      Successfully uninstalled openpyxl-3.1.5\n",
            "Successfully installed openpyxl-3.1.0\n"
          ]
        }
      ],
      "source": [
        "!pip install openpyxl==3.1.0"
      ]
    },
    {
      "cell_type": "code",
      "source": [
        "import pandas as pd\n",
        "\n",
        "# データフレームの作成\n",
        "df = pd.DataFrame({\n",
        "    '日付':\n",
        "      ['2023-05-17', '2023-05-18', '2023-05-19', '2023-05-20', '2023-05-21'],\n",
        "    '社員名': ['山田', '佐藤', '鈴木', '田中', '高橋'],\n",
        "    '売上': [100, 200, 150, 300, 250],\n",
        "    '部門': ['メーカー', '代理店', 'メーカー', '商社', '代理店'],\n",
        "})"
      ],
      "metadata": {
        "id": "qkPeSLS5g562"
      },
      "execution_count": 8,
      "outputs": []
    },
    {
      "cell_type": "code",
      "source": [
        "# 売上の平均を求めて新しい列を作成\n",
        "average_sales = df[\"売上\"].mean()\n",
        "df[\"平均売上\"] = average_sales  # 全員同じ値"
      ],
      "metadata": {
        "id": "xNaxhMb0humI"
      },
      "execution_count": 9,
      "outputs": []
    },
    {
      "cell_type": "code",
      "source": [
        "# 業績ランクの設定関数\n",
        "def performance(sales, avg_sales):\n",
        "    if sales >= avg_sales + 50:\n",
        "        return \"A\"\n",
        "    elif sales >= avg_sales:\n",
        "        return \"B\"\n",
        "    else:\n",
        "        return \"C\"\n",
        "\n",
        "# 業績ランク列の作成\n",
        "df[\"業績ランク\"] = df[\"売上\"].apply(lambda x: performance(x, average_sales))\n",
        "\n",
        "# Excelファイルに書き出し\n",
        "df.to_excel(\"業績.xlsx\", index=False)\n",
        "\n",
        "# 結果の表示\n",
        "print(df)"
      ],
      "metadata": {
        "colab": {
          "base_uri": "https://localhost:8080/"
        },
        "id": "gPo4aTm6kebc",
        "outputId": "319b062a-2fda-4a85-c27a-8a1cbf6438a9"
      },
      "execution_count": 10,
      "outputs": [
        {
          "output_type": "stream",
          "name": "stdout",
          "text": [
            "           日付 社員名   売上    部門   平均売上 業績ランク\n",
            "0  2023-05-17  山田  100  メーカー  200.0     C\n",
            "1  2023-05-18  佐藤  200   代理店  200.0     B\n",
            "2  2023-05-19  鈴木  150  メーカー  200.0     C\n",
            "3  2023-05-20  田中  300    商社  200.0     A\n",
            "4  2023-05-21  高橋  250   代理店  200.0     A\n"
          ]
        }
      ]
    }
  ]
}