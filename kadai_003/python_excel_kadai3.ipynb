{
  "nbformat": 4,
  "nbformat_minor": 0,
  "metadata": {
    "colab": {
      "provenance": []
    },
    "kernelspec": {
      "name": "python3",
      "display_name": "Python 3"
    },
    "language_info": {
      "name": "python"
    }
  },
  "cells": [
    {
      "cell_type": "code",
      "execution_count": 1,
      "metadata": {
        "colab": {
          "base_uri": "https://localhost:8080/"
        },
        "id": "ePfpSOiiAKnB",
        "outputId": "6dc3bafc-6a5d-44fc-dc04-a85d01c2eb0f"
      },
      "outputs": [
        {
          "output_type": "stream",
          "name": "stdout",
          "text": [
            "Collecting openpyxl==3.1.0\n",
            "  Downloading openpyxl-3.1.0-py2.py3-none-any.whl.metadata (2.5 kB)\n",
            "Requirement already satisfied: et-xmlfile in /usr/local/lib/python3.11/dist-packages (from openpyxl==3.1.0) (2.0.0)\n",
            "Downloading openpyxl-3.1.0-py2.py3-none-any.whl (250 kB)\n",
            "\u001b[?25l   \u001b[90m━━━━━━━━━━━━━━━━━━━━━━━━━━━━━━━━━━━━━━━━\u001b[0m \u001b[32m0.0/250.0 kB\u001b[0m \u001b[31m?\u001b[0m eta \u001b[36m-:--:--\u001b[0m\r\u001b[2K   \u001b[91m━━━━━━━━━━━━━━\u001b[0m\u001b[91m╸\u001b[0m\u001b[90m━━━━━━━━━━━━━━━━━━━━━━━━━\u001b[0m \u001b[32m92.2/250.0 kB\u001b[0m \u001b[31m2.6 MB/s\u001b[0m eta \u001b[36m0:00:01\u001b[0m\r\u001b[2K   \u001b[90m━━━━━━━━━━━━━━━━━━━━━━━━━━━━━━━━━━━━━━━━\u001b[0m \u001b[32m250.0/250.0 kB\u001b[0m \u001b[31m3.9 MB/s\u001b[0m eta \u001b[36m0:00:00\u001b[0m\n",
            "\u001b[?25hInstalling collected packages: openpyxl\n",
            "  Attempting uninstall: openpyxl\n",
            "    Found existing installation: openpyxl 3.1.5\n",
            "    Uninstalling openpyxl-3.1.5:\n",
            "      Successfully uninstalled openpyxl-3.1.5\n",
            "Successfully installed openpyxl-3.1.0\n"
          ]
        }
      ],
      "source": [
        "!pip install openpyxl==3.1.0"
      ]
    },
    {
      "cell_type": "code",
      "source": [
        "import pandas as pd\n",
        "from openpyxl import load_workbook\n",
        "from openpyxl.styles import PatternFill\n",
        "\n",
        "# Step 3: データの連結と集計\n",
        "df_2022 = pd.read_excel(\"2022_年間売上表.xlsx\", sheet_name=\"Sheet1\")\n",
        "df_2023 = pd.read_excel(\"2023_年間売上表.xlsx\", sheet_name=\"Sheet1\")\n",
        "\n",
        "# データの連結\n",
        "df = pd.concat([df_2022, df_2023])\n",
        "\n",
        "# 「商品名」と「売上年」ごとにグループ化し、合計金額を集計\n",
        "df_grouped = df.groupby([\"商品\", \"売上年\"]).agg({\"金額（千円）\": \"sum\"}).reset_index()\n",
        "\n",
        "# Step 4: 売上集計表の作成とヘッダーの書式変更\n",
        "output_file = \"売上集計表.xlsx\"\n",
        "df_grouped.to_excel(output_file, index=False, sheet_name=\"Sheet1\")\n",
        "\n",
        "# ヘッダーの書式を変更\n",
        "wb = load_workbook(output_file)\n",
        "ws = wb.active\n",
        "\n",
        "# ヘッダー部分（1行目）の背景色を薄いグレー (#F2F2F2) に変更\n",
        "gray_fill = PatternFill(start_color=\"F2F2F2\", end_color=\"F2F2F2\", fill_type=\"solid\")\n",
        "for cell in ws[1]:\n",
        "    cell.fill = gray_fill\n",
        "\n",
        "wb.save(output_file)\n",
        "\n",
        "print(f\"{output_file} に売上集計データを保存しました！\")"
      ],
      "metadata": {
        "colab": {
          "base_uri": "https://localhost:8080/"
        },
        "id": "ndRf-SADFoz_",
        "outputId": "846c1154-2bdc-4741-b47a-bc423ea04707"
      },
      "execution_count": 6,
      "outputs": [
        {
          "output_type": "stream",
          "name": "stdout",
          "text": [
            "売上集計表.xlsx に売上集計データを保存しました！\n"
          ]
        }
      ]
    }
  ]
}