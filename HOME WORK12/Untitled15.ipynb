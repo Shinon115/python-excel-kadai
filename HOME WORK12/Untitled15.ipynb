{
  "nbformat": 4,
  "nbformat_minor": 0,
  "metadata": {
    "colab": {
      "provenance": []
    },
    "kernelspec": {
      "name": "python3",
      "display_name": "Python 3"
    },
    "language_info": {
      "name": "python"
    }
  },
  "cells": [
    {
      "cell_type": "code",
      "execution_count": null,
      "metadata": {
        "colab": {
          "base_uri": "https://localhost:8080/"
        },
        "id": "7SX1UzCi_CRS",
        "outputId": "6e0ac6ad-e365-4984-891c-7acf14008b15"
      },
      "outputs": [
        {
          "output_type": "stream",
          "name": "stdout",
          "text": [
            "Requirement already satisfied: openpyxl in /usr/local/lib/python3.11/dist-packages (3.1.5)\n",
            "Requirement already satisfied: et-xmlfile in /usr/local/lib/python3.11/dist-packages (from openpyxl) (2.0.0)\n"
          ]
        }
      ],
      "source": [
        "!pip install openpyxl"
      ]
    },
    {
      "cell_type": "code",
      "source": [],
      "metadata": {
        "id": "pLTNjMlwQD38"
      },
      "execution_count": null,
      "outputs": []
    },
    {
      "cell_type": "code",
      "source": [
        "import pandas as pd\n",
        "file_list = ['order_A_20230524.xlsx', 'order_B_20230524.xlsx','order_C_20230524.xlsx', 'order_D_20230524.xlsx']\n",
        "# 結合後のデータを格納するための空のデータフレームを作成\n",
        "df_order = pd.DataFrame()\n",
        "\n",
        "# ファイルを一つずつ処理する\n",
        "for file_name in file_list:\n",
        "    # Excelファイルを読み込む\n",
        "    temp_df = pd.read_excel(file_name, header=None).T\n",
        "\n",
        "    # データフレームの列名を指定\n",
        "    temp_df.columns = ['品名', '個数']\n",
        "\n",
        "    # concat()でデータフレームを連結\n",
        "    df_order = pd.concat([df_order, temp_df], ignore_index=True)\n",
        "\n",
        "# print(df_order)\n",
        "# 品名ごとに個数を合計\n",
        "summary = df_order.groupby('品名')['個数'].sum().reset_index()\n",
        "print(summary)"
      ],
      "metadata": {
        "colab": {
          "base_uri": "https://localhost:8080/"
        },
        "id": "DDR7QjPpJe4p",
        "outputId": "5d9c1829-e1dc-4ede-aefa-ddd50edc94bf"
      },
      "execution_count": null,
      "outputs": [
        {
          "output_type": "stream",
          "name": "stdout",
          "text": [
            "      品名  個数\n",
            "0  ほうれん草  23\n",
            "1   キャベツ  21\n",
            "2    トマト  31\n",
            "3   ニンジン  32\n",
            "4    レタス  42\n",
            "5     大根  15\n",
            "6     白菜  25\n"
          ]
        }
      ]
    },
    {
      "cell_type": "code",
      "source": [
        "# 在庫を読み込む\n",
        "df_inventory = pd.read_excel('inventory.xlsx')\n",
        "print(df_inventory)\n",
        "\n",
        "# 最新の在庫状況（-1で最後の1行)\n",
        "latest_inventory = df_inventory.iloc[-1]\n",
        "print(latest_inventory)\n"
      ],
      "metadata": {
        "colab": {
          "base_uri": "https://localhost:8080/"
        },
        "id": "xHEE4ZsHKIoH",
        "outputId": "b64351c2-0d97-48c1-a374-0f99ce5d9f29"
      },
      "execution_count": null,
      "outputs": [
        {
          "output_type": "stream",
          "name": "stdout",
          "text": [
            "           日付   曜日  トマト  キャベツ  レタス  白菜  ほうれん草  大根  ニンジン\n",
            "0  2023-05-01  Mon  106    70  101  64     95  65    68\n",
            "1  2023-05-02  Tue   75    71   78  47     60  45    69\n",
            "2  2023-05-03  Wed   61    81   82  53     51  25    89\n",
            "3  2023-05-04  Thu   47    49   93  38     75  41    91\n",
            "4  2023-05-05  Fri   67    52   67  21     97  28    56\n",
            "5  2023-05-06  Sat   43    92   96  40     66  50    37\n",
            "6  2023-05-07  Sun   81    39   74  18    104  38    77\n",
            "7  2023-05-08  Mon  104    83   29  33     72  56    55\n",
            "8  2023-05-09  Tue   31    36   84  35     92  44    78\n",
            "9  2023-05-10  Wed   92    75   32  29     43  22    62\n",
            "10 2023-05-11  Thu   61    29   54  52     33  78    92\n",
            "11 2023-05-12  Fri   55    40   60  15     27  43    29\n",
            "12 2023-05-13  Sat   49   103   41  10     35  33    58\n",
            "13 2023-05-14  Sun   91    73  103  84     75  48    50\n",
            "日付       2023-05-14 00:00:00\n",
            "曜日                       Sun\n",
            "トマト                       91\n",
            "キャベツ                      73\n",
            "レタス                      103\n",
            "白菜                        84\n",
            "ほうれん草                     75\n",
            "大根                        48\n",
            "ニンジン                      50\n",
            "Name: 13, dtype: object\n"
          ]
        }
      ]
    },
    {
      "cell_type": "markdown",
      "source": [],
      "metadata": {
        "id": "oGvQKiRDLz78"
      }
    },
    {
      "cell_type": "code",
      "source": [
        "df_pickup = pd.read_excel('pickup.xlsx',index_col=0)\n",
        "print(df_pickup)"
      ],
      "metadata": {
        "colab": {
          "base_uri": "https://localhost:8080/"
        },
        "id": "V-zst4GwMDux",
        "outputId": "b51a326f-b008-4496-9a4e-e61841aa9314"
      },
      "execution_count": null,
      "outputs": [
        {
          "output_type": "stream",
          "name": "stdout",
          "text": [
            "      トマト  キャベツ  レタス  白菜  ほうれん草  大根  ニンジン\n",
            "しきい値   50    40   50  30     40  30    40\n",
            "追加量   100    80  100  60     80  60    80\n"
          ]
        }
      ]
    },
    {
      "cell_type": "code",
      "source": [
        "shikii = df_pickup.loc[\"しきい値\"]\n",
        "print(shikii)"
      ],
      "metadata": {
        "colab": {
          "base_uri": "https://localhost:8080/"
        },
        "id": "CLCxyFBFMdG0",
        "outputId": "2fccc91c-b723-49af-8bff-e621b87a8d07"
      },
      "execution_count": null,
      "outputs": [
        {
          "output_type": "stream",
          "name": "stdout",
          "text": [
            "トマト      50\n",
            "キャベツ     40\n",
            "レタス      50\n",
            "白菜       30\n",
            "ほうれん草    40\n",
            "大根       30\n",
            "ニンジン     40\n",
            "Name: しきい値, dtype: int64\n"
          ]
        }
      ]
    },
    {
      "cell_type": "code",
      "source": [
        "def calc(row):\n",
        "  order = latest_inventory[row[\"品名\"]] - row['個数']\n",
        "  return order"
      ],
      "metadata": {
        "id": "8u_alFMzEnSc"
      },
      "execution_count": null,
      "outputs": []
    },
    {
      "cell_type": "code",
      "source": [
        "summary[\"注文後在庫\"] = summary.apply(calc, axis=1)\n",
        "print(summary)"
      ],
      "metadata": {
        "colab": {
          "base_uri": "https://localhost:8080/"
        },
        "id": "cOZTN5K4HS0v",
        "outputId": "add3cd77-9e2d-45ff-c412-2487ba49005e"
      },
      "execution_count": null,
      "outputs": [
        {
          "output_type": "stream",
          "name": "stdout",
          "text": [
            "      品名  個数  注文後在庫\n",
            "0  ほうれん草  23     52\n",
            "1   キャベツ  21     52\n",
            "2    トマト  31     60\n",
            "3   ニンジン  32     18\n",
            "4    レタス  42     61\n",
            "5     大根  15     33\n",
            "6     白菜  25     59\n"
          ]
        }
      ]
    },
    {
      "cell_type": "code",
      "source": [
        "def pickup(row):\n",
        "  return row['注文後在庫'] - shikii[row['品名']]"
      ],
      "metadata": {
        "id": "MBdwIReWHq0M"
      },
      "execution_count": null,
      "outputs": []
    },
    {
      "cell_type": "code",
      "source": [
        "summary[\"注文\"] = summary.apply(pickup, axis=1)\n",
        "print(summary)"
      ],
      "metadata": {
        "colab": {
          "base_uri": "https://localhost:8080/"
        },
        "id": "Ex4yCKvFHtzf",
        "outputId": "9f7e951d-8ee6-4608-af90-f7c5101c6f90"
      },
      "execution_count": null,
      "outputs": [
        {
          "output_type": "stream",
          "name": "stdout",
          "text": [
            "      品名  個数  注文後在庫  注文\n",
            "0  ほうれん草  23     52  12\n",
            "1   キャベツ  21     52  12\n",
            "2    トマト  31     60  10\n",
            "3   ニンジン  32     18 -22\n",
            "4    レタス  42     61  11\n",
            "5     大根  15     33   3\n",
            "6     白菜  25     59  29\n"
          ]
        }
      ]
    },
    {
      "cell_type": "code",
      "source": [
        "chumon = summary[summary[\"注文\"] < 0]\n",
        "print(chumon)\n"
      ],
      "metadata": {
        "colab": {
          "base_uri": "https://localhost:8080/"
        },
        "id": "OxBcZ9M9IOXY",
        "outputId": "0ddfee82-640b-45db-8976-a09b1a26ba82"
      },
      "execution_count": null,
      "outputs": [
        {
          "output_type": "stream",
          "name": "stdout",
          "text": [
            "     品名  個数  注文後在庫  注文\n",
            "3  ニンジン  32     18 -22\n"
          ]
        }
      ]
    },
    {
      "cell_type": "code",
      "source": [
        "# 品名をキー、注文を値とした辞書を作成\n",
        "order_dict = summary.set_index(\"品名\")[\"注文\"].to_dict()\n",
        "print(order_dict)"
      ],
      "metadata": {
        "colab": {
          "base_uri": "https://localhost:8080/"
        },
        "id": "uw3-VCxGHyvF",
        "outputId": "ca373d2c-d28f-4c40-f05d-f70fab62294b"
      },
      "execution_count": null,
      "outputs": [
        {
          "output_type": "stream",
          "name": "stdout",
          "text": [
            "{'ほうれん草': 12, 'キャベツ': 12, 'トマト': 10, 'ニンジン': -22, 'レタス': 11, '大根': 3, '白菜': 29}\n"
          ]
        }
      ]
    },
    {
      "cell_type": "code",
      "source": [
        "import datetime\n",
        "new_inventory = pd.Series(\n",
        "    {**{'日付': datetime.datetime.now(), '曜日': datetime.datetime.now().strftime('%a')}, **order_dict},\n",
        "    name=len(df_inventory)\n",
        ")\n",
        "\n",
        "df_inventory = pd.concat([df_inventory, new_inventory.to_frame().T], ignore_index=True)\n",
        "\n",
        "df_inventory"
      ],
      "metadata": {
        "colab": {
          "base_uri": "https://localhost:8080/",
          "height": 519
        },
        "id": "FCAX8JFHPA3R",
        "outputId": "f0a73b6c-7b31-499f-fdae-5ff8cfd2a6e2"
      },
      "execution_count": null,
      "outputs": [
        {
          "output_type": "execute_result",
          "data": {
            "text/plain": [
              "                            日付   曜日  トマト キャベツ  レタス  白菜 ほうれん草  大根 ニンジン\n",
              "0          2023-05-01 00:00:00  Mon  106   70  101  64    95  65   68\n",
              "1          2023-05-02 00:00:00  Tue   75   71   78  47    60  45   69\n",
              "2          2023-05-03 00:00:00  Wed   61   81   82  53    51  25   89\n",
              "3          2023-05-04 00:00:00  Thu   47   49   93  38    75  41   91\n",
              "4          2023-05-05 00:00:00  Fri   67   52   67  21    97  28   56\n",
              "5          2023-05-06 00:00:00  Sat   43   92   96  40    66  50   37\n",
              "6          2023-05-07 00:00:00  Sun   81   39   74  18   104  38   77\n",
              "7          2023-05-08 00:00:00  Mon  104   83   29  33    72  56   55\n",
              "8          2023-05-09 00:00:00  Tue   31   36   84  35    92  44   78\n",
              "9          2023-05-10 00:00:00  Wed   92   75   32  29    43  22   62\n",
              "10         2023-05-11 00:00:00  Thu   61   29   54  52    33  78   92\n",
              "11         2023-05-12 00:00:00  Fri   55   40   60  15    27  43   29\n",
              "12         2023-05-13 00:00:00  Sat   49  103   41  10    35  33   58\n",
              "13         2023-05-14 00:00:00  Sun   91   73  103  84    75  48   50\n",
              "14  2025-06-22 14:44:14.169971  Sun   10   12   11  29    12   3  -22"
            ],
            "text/html": [
              "\n",
              "  <div id=\"df-00781543-fb3f-4e3f-b01d-a0f9adbea8bd\" class=\"colab-df-container\">\n",
              "    <div>\n",
              "<style scoped>\n",
              "    .dataframe tbody tr th:only-of-type {\n",
              "        vertical-align: middle;\n",
              "    }\n",
              "\n",
              "    .dataframe tbody tr th {\n",
              "        vertical-align: top;\n",
              "    }\n",
              "\n",
              "    .dataframe thead th {\n",
              "        text-align: right;\n",
              "    }\n",
              "</style>\n",
              "<table border=\"1\" class=\"dataframe\">\n",
              "  <thead>\n",
              "    <tr style=\"text-align: right;\">\n",
              "      <th></th>\n",
              "      <th>日付</th>\n",
              "      <th>曜日</th>\n",
              "      <th>トマト</th>\n",
              "      <th>キャベツ</th>\n",
              "      <th>レタス</th>\n",
              "      <th>白菜</th>\n",
              "      <th>ほうれん草</th>\n",
              "      <th>大根</th>\n",
              "      <th>ニンジン</th>\n",
              "    </tr>\n",
              "  </thead>\n",
              "  <tbody>\n",
              "    <tr>\n",
              "      <th>0</th>\n",
              "      <td>2023-05-01 00:00:00</td>\n",
              "      <td>Mon</td>\n",
              "      <td>106</td>\n",
              "      <td>70</td>\n",
              "      <td>101</td>\n",
              "      <td>64</td>\n",
              "      <td>95</td>\n",
              "      <td>65</td>\n",
              "      <td>68</td>\n",
              "    </tr>\n",
              "    <tr>\n",
              "      <th>1</th>\n",
              "      <td>2023-05-02 00:00:00</td>\n",
              "      <td>Tue</td>\n",
              "      <td>75</td>\n",
              "      <td>71</td>\n",
              "      <td>78</td>\n",
              "      <td>47</td>\n",
              "      <td>60</td>\n",
              "      <td>45</td>\n",
              "      <td>69</td>\n",
              "    </tr>\n",
              "    <tr>\n",
              "      <th>2</th>\n",
              "      <td>2023-05-03 00:00:00</td>\n",
              "      <td>Wed</td>\n",
              "      <td>61</td>\n",
              "      <td>81</td>\n",
              "      <td>82</td>\n",
              "      <td>53</td>\n",
              "      <td>51</td>\n",
              "      <td>25</td>\n",
              "      <td>89</td>\n",
              "    </tr>\n",
              "    <tr>\n",
              "      <th>3</th>\n",
              "      <td>2023-05-04 00:00:00</td>\n",
              "      <td>Thu</td>\n",
              "      <td>47</td>\n",
              "      <td>49</td>\n",
              "      <td>93</td>\n",
              "      <td>38</td>\n",
              "      <td>75</td>\n",
              "      <td>41</td>\n",
              "      <td>91</td>\n",
              "    </tr>\n",
              "    <tr>\n",
              "      <th>4</th>\n",
              "      <td>2023-05-05 00:00:00</td>\n",
              "      <td>Fri</td>\n",
              "      <td>67</td>\n",
              "      <td>52</td>\n",
              "      <td>67</td>\n",
              "      <td>21</td>\n",
              "      <td>97</td>\n",
              "      <td>28</td>\n",
              "      <td>56</td>\n",
              "    </tr>\n",
              "    <tr>\n",
              "      <th>5</th>\n",
              "      <td>2023-05-06 00:00:00</td>\n",
              "      <td>Sat</td>\n",
              "      <td>43</td>\n",
              "      <td>92</td>\n",
              "      <td>96</td>\n",
              "      <td>40</td>\n",
              "      <td>66</td>\n",
              "      <td>50</td>\n",
              "      <td>37</td>\n",
              "    </tr>\n",
              "    <tr>\n",
              "      <th>6</th>\n",
              "      <td>2023-05-07 00:00:00</td>\n",
              "      <td>Sun</td>\n",
              "      <td>81</td>\n",
              "      <td>39</td>\n",
              "      <td>74</td>\n",
              "      <td>18</td>\n",
              "      <td>104</td>\n",
              "      <td>38</td>\n",
              "      <td>77</td>\n",
              "    </tr>\n",
              "    <tr>\n",
              "      <th>7</th>\n",
              "      <td>2023-05-08 00:00:00</td>\n",
              "      <td>Mon</td>\n",
              "      <td>104</td>\n",
              "      <td>83</td>\n",
              "      <td>29</td>\n",
              "      <td>33</td>\n",
              "      <td>72</td>\n",
              "      <td>56</td>\n",
              "      <td>55</td>\n",
              "    </tr>\n",
              "    <tr>\n",
              "      <th>8</th>\n",
              "      <td>2023-05-09 00:00:00</td>\n",
              "      <td>Tue</td>\n",
              "      <td>31</td>\n",
              "      <td>36</td>\n",
              "      <td>84</td>\n",
              "      <td>35</td>\n",
              "      <td>92</td>\n",
              "      <td>44</td>\n",
              "      <td>78</td>\n",
              "    </tr>\n",
              "    <tr>\n",
              "      <th>9</th>\n",
              "      <td>2023-05-10 00:00:00</td>\n",
              "      <td>Wed</td>\n",
              "      <td>92</td>\n",
              "      <td>75</td>\n",
              "      <td>32</td>\n",
              "      <td>29</td>\n",
              "      <td>43</td>\n",
              "      <td>22</td>\n",
              "      <td>62</td>\n",
              "    </tr>\n",
              "    <tr>\n",
              "      <th>10</th>\n",
              "      <td>2023-05-11 00:00:00</td>\n",
              "      <td>Thu</td>\n",
              "      <td>61</td>\n",
              "      <td>29</td>\n",
              "      <td>54</td>\n",
              "      <td>52</td>\n",
              "      <td>33</td>\n",
              "      <td>78</td>\n",
              "      <td>92</td>\n",
              "    </tr>\n",
              "    <tr>\n",
              "      <th>11</th>\n",
              "      <td>2023-05-12 00:00:00</td>\n",
              "      <td>Fri</td>\n",
              "      <td>55</td>\n",
              "      <td>40</td>\n",
              "      <td>60</td>\n",
              "      <td>15</td>\n",
              "      <td>27</td>\n",
              "      <td>43</td>\n",
              "      <td>29</td>\n",
              "    </tr>\n",
              "    <tr>\n",
              "      <th>12</th>\n",
              "      <td>2023-05-13 00:00:00</td>\n",
              "      <td>Sat</td>\n",
              "      <td>49</td>\n",
              "      <td>103</td>\n",
              "      <td>41</td>\n",
              "      <td>10</td>\n",
              "      <td>35</td>\n",
              "      <td>33</td>\n",
              "      <td>58</td>\n",
              "    </tr>\n",
              "    <tr>\n",
              "      <th>13</th>\n",
              "      <td>2023-05-14 00:00:00</td>\n",
              "      <td>Sun</td>\n",
              "      <td>91</td>\n",
              "      <td>73</td>\n",
              "      <td>103</td>\n",
              "      <td>84</td>\n",
              "      <td>75</td>\n",
              "      <td>48</td>\n",
              "      <td>50</td>\n",
              "    </tr>\n",
              "    <tr>\n",
              "      <th>14</th>\n",
              "      <td>2025-06-22 14:44:14.169971</td>\n",
              "      <td>Sun</td>\n",
              "      <td>10</td>\n",
              "      <td>12</td>\n",
              "      <td>11</td>\n",
              "      <td>29</td>\n",
              "      <td>12</td>\n",
              "      <td>3</td>\n",
              "      <td>-22</td>\n",
              "    </tr>\n",
              "  </tbody>\n",
              "</table>\n",
              "</div>\n",
              "    <div class=\"colab-df-buttons\">\n",
              "\n",
              "  <div class=\"colab-df-container\">\n",
              "    <button class=\"colab-df-convert\" onclick=\"convertToInteractive('df-00781543-fb3f-4e3f-b01d-a0f9adbea8bd')\"\n",
              "            title=\"Convert this dataframe to an interactive table.\"\n",
              "            style=\"display:none;\">\n",
              "\n",
              "  <svg xmlns=\"http://www.w3.org/2000/svg\" height=\"24px\" viewBox=\"0 -960 960 960\">\n",
              "    <path d=\"M120-120v-720h720v720H120Zm60-500h600v-160H180v160Zm220 220h160v-160H400v160Zm0 220h160v-160H400v160ZM180-400h160v-160H180v160Zm440 0h160v-160H620v160ZM180-180h160v-160H180v160Zm440 0h160v-160H620v160Z\"/>\n",
              "  </svg>\n",
              "    </button>\n",
              "\n",
              "  <style>\n",
              "    .colab-df-container {\n",
              "      display:flex;\n",
              "      gap: 12px;\n",
              "    }\n",
              "\n",
              "    .colab-df-convert {\n",
              "      background-color: #E8F0FE;\n",
              "      border: none;\n",
              "      border-radius: 50%;\n",
              "      cursor: pointer;\n",
              "      display: none;\n",
              "      fill: #1967D2;\n",
              "      height: 32px;\n",
              "      padding: 0 0 0 0;\n",
              "      width: 32px;\n",
              "    }\n",
              "\n",
              "    .colab-df-convert:hover {\n",
              "      background-color: #E2EBFA;\n",
              "      box-shadow: 0px 1px 2px rgba(60, 64, 67, 0.3), 0px 1px 3px 1px rgba(60, 64, 67, 0.15);\n",
              "      fill: #174EA6;\n",
              "    }\n",
              "\n",
              "    .colab-df-buttons div {\n",
              "      margin-bottom: 4px;\n",
              "    }\n",
              "\n",
              "    [theme=dark] .colab-df-convert {\n",
              "      background-color: #3B4455;\n",
              "      fill: #D2E3FC;\n",
              "    }\n",
              "\n",
              "    [theme=dark] .colab-df-convert:hover {\n",
              "      background-color: #434B5C;\n",
              "      box-shadow: 0px 1px 3px 1px rgba(0, 0, 0, 0.15);\n",
              "      filter: drop-shadow(0px 1px 2px rgba(0, 0, 0, 0.3));\n",
              "      fill: #FFFFFF;\n",
              "    }\n",
              "  </style>\n",
              "\n",
              "    <script>\n",
              "      const buttonEl =\n",
              "        document.querySelector('#df-00781543-fb3f-4e3f-b01d-a0f9adbea8bd button.colab-df-convert');\n",
              "      buttonEl.style.display =\n",
              "        google.colab.kernel.accessAllowed ? 'block' : 'none';\n",
              "\n",
              "      async function convertToInteractive(key) {\n",
              "        const element = document.querySelector('#df-00781543-fb3f-4e3f-b01d-a0f9adbea8bd');\n",
              "        const dataTable =\n",
              "          await google.colab.kernel.invokeFunction('convertToInteractive',\n",
              "                                                    [key], {});\n",
              "        if (!dataTable) return;\n",
              "\n",
              "        const docLinkHtml = 'Like what you see? Visit the ' +\n",
              "          '<a target=\"_blank\" href=https://colab.research.google.com/notebooks/data_table.ipynb>data table notebook</a>'\n",
              "          + ' to learn more about interactive tables.';\n",
              "        element.innerHTML = '';\n",
              "        dataTable['output_type'] = 'display_data';\n",
              "        await google.colab.output.renderOutput(dataTable, element);\n",
              "        const docLink = document.createElement('div');\n",
              "        docLink.innerHTML = docLinkHtml;\n",
              "        element.appendChild(docLink);\n",
              "      }\n",
              "    </script>\n",
              "  </div>\n",
              "\n",
              "\n",
              "    <div id=\"df-27581c1b-0aa8-4361-86d6-599baa630495\">\n",
              "      <button class=\"colab-df-quickchart\" onclick=\"quickchart('df-27581c1b-0aa8-4361-86d6-599baa630495')\"\n",
              "                title=\"Suggest charts\"\n",
              "                style=\"display:none;\">\n",
              "\n",
              "<svg xmlns=\"http://www.w3.org/2000/svg\" height=\"24px\"viewBox=\"0 0 24 24\"\n",
              "     width=\"24px\">\n",
              "    <g>\n",
              "        <path d=\"M19 3H5c-1.1 0-2 .9-2 2v14c0 1.1.9 2 2 2h14c1.1 0 2-.9 2-2V5c0-1.1-.9-2-2-2zM9 17H7v-7h2v7zm4 0h-2V7h2v10zm4 0h-2v-4h2v4z\"/>\n",
              "    </g>\n",
              "</svg>\n",
              "      </button>\n",
              "\n",
              "<style>\n",
              "  .colab-df-quickchart {\n",
              "      --bg-color: #E8F0FE;\n",
              "      --fill-color: #1967D2;\n",
              "      --hover-bg-color: #E2EBFA;\n",
              "      --hover-fill-color: #174EA6;\n",
              "      --disabled-fill-color: #AAA;\n",
              "      --disabled-bg-color: #DDD;\n",
              "  }\n",
              "\n",
              "  [theme=dark] .colab-df-quickchart {\n",
              "      --bg-color: #3B4455;\n",
              "      --fill-color: #D2E3FC;\n",
              "      --hover-bg-color: #434B5C;\n",
              "      --hover-fill-color: #FFFFFF;\n",
              "      --disabled-bg-color: #3B4455;\n",
              "      --disabled-fill-color: #666;\n",
              "  }\n",
              "\n",
              "  .colab-df-quickchart {\n",
              "    background-color: var(--bg-color);\n",
              "    border: none;\n",
              "    border-radius: 50%;\n",
              "    cursor: pointer;\n",
              "    display: none;\n",
              "    fill: var(--fill-color);\n",
              "    height: 32px;\n",
              "    padding: 0;\n",
              "    width: 32px;\n",
              "  }\n",
              "\n",
              "  .colab-df-quickchart:hover {\n",
              "    background-color: var(--hover-bg-color);\n",
              "    box-shadow: 0 1px 2px rgba(60, 64, 67, 0.3), 0 1px 3px 1px rgba(60, 64, 67, 0.15);\n",
              "    fill: var(--button-hover-fill-color);\n",
              "  }\n",
              "\n",
              "  .colab-df-quickchart-complete:disabled,\n",
              "  .colab-df-quickchart-complete:disabled:hover {\n",
              "    background-color: var(--disabled-bg-color);\n",
              "    fill: var(--disabled-fill-color);\n",
              "    box-shadow: none;\n",
              "  }\n",
              "\n",
              "  .colab-df-spinner {\n",
              "    border: 2px solid var(--fill-color);\n",
              "    border-color: transparent;\n",
              "    border-bottom-color: var(--fill-color);\n",
              "    animation:\n",
              "      spin 1s steps(1) infinite;\n",
              "  }\n",
              "\n",
              "  @keyframes spin {\n",
              "    0% {\n",
              "      border-color: transparent;\n",
              "      border-bottom-color: var(--fill-color);\n",
              "      border-left-color: var(--fill-color);\n",
              "    }\n",
              "    20% {\n",
              "      border-color: transparent;\n",
              "      border-left-color: var(--fill-color);\n",
              "      border-top-color: var(--fill-color);\n",
              "    }\n",
              "    30% {\n",
              "      border-color: transparent;\n",
              "      border-left-color: var(--fill-color);\n",
              "      border-top-color: var(--fill-color);\n",
              "      border-right-color: var(--fill-color);\n",
              "    }\n",
              "    40% {\n",
              "      border-color: transparent;\n",
              "      border-right-color: var(--fill-color);\n",
              "      border-top-color: var(--fill-color);\n",
              "    }\n",
              "    60% {\n",
              "      border-color: transparent;\n",
              "      border-right-color: var(--fill-color);\n",
              "    }\n",
              "    80% {\n",
              "      border-color: transparent;\n",
              "      border-right-color: var(--fill-color);\n",
              "      border-bottom-color: var(--fill-color);\n",
              "    }\n",
              "    90% {\n",
              "      border-color: transparent;\n",
              "      border-bottom-color: var(--fill-color);\n",
              "    }\n",
              "  }\n",
              "</style>\n",
              "\n",
              "      <script>\n",
              "        async function quickchart(key) {\n",
              "          const quickchartButtonEl =\n",
              "            document.querySelector('#' + key + ' button');\n",
              "          quickchartButtonEl.disabled = true;  // To prevent multiple clicks.\n",
              "          quickchartButtonEl.classList.add('colab-df-spinner');\n",
              "          try {\n",
              "            const charts = await google.colab.kernel.invokeFunction(\n",
              "                'suggestCharts', [key], {});\n",
              "          } catch (error) {\n",
              "            console.error('Error during call to suggestCharts:', error);\n",
              "          }\n",
              "          quickchartButtonEl.classList.remove('colab-df-spinner');\n",
              "          quickchartButtonEl.classList.add('colab-df-quickchart-complete');\n",
              "        }\n",
              "        (() => {\n",
              "          let quickchartButtonEl =\n",
              "            document.querySelector('#df-27581c1b-0aa8-4361-86d6-599baa630495 button');\n",
              "          quickchartButtonEl.style.display =\n",
              "            google.colab.kernel.accessAllowed ? 'block' : 'none';\n",
              "        })();\n",
              "      </script>\n",
              "    </div>\n",
              "\n",
              "  <div id=\"id_a69fe323-de97-4b61-b37a-20e7f377e865\">\n",
              "    <style>\n",
              "      .colab-df-generate {\n",
              "        background-color: #E8F0FE;\n",
              "        border: none;\n",
              "        border-radius: 50%;\n",
              "        cursor: pointer;\n",
              "        display: none;\n",
              "        fill: #1967D2;\n",
              "        height: 32px;\n",
              "        padding: 0 0 0 0;\n",
              "        width: 32px;\n",
              "      }\n",
              "\n",
              "      .colab-df-generate:hover {\n",
              "        background-color: #E2EBFA;\n",
              "        box-shadow: 0px 1px 2px rgba(60, 64, 67, 0.3), 0px 1px 3px 1px rgba(60, 64, 67, 0.15);\n",
              "        fill: #174EA6;\n",
              "      }\n",
              "\n",
              "      [theme=dark] .colab-df-generate {\n",
              "        background-color: #3B4455;\n",
              "        fill: #D2E3FC;\n",
              "      }\n",
              "\n",
              "      [theme=dark] .colab-df-generate:hover {\n",
              "        background-color: #434B5C;\n",
              "        box-shadow: 0px 1px 3px 1px rgba(0, 0, 0, 0.15);\n",
              "        filter: drop-shadow(0px 1px 2px rgba(0, 0, 0, 0.3));\n",
              "        fill: #FFFFFF;\n",
              "      }\n",
              "    </style>\n",
              "    <button class=\"colab-df-generate\" onclick=\"generateWithVariable('df_inventory')\"\n",
              "            title=\"Generate code using this dataframe.\"\n",
              "            style=\"display:none;\">\n",
              "\n",
              "  <svg xmlns=\"http://www.w3.org/2000/svg\" height=\"24px\"viewBox=\"0 0 24 24\"\n",
              "       width=\"24px\">\n",
              "    <path d=\"M7,19H8.4L18.45,9,17,7.55,7,17.6ZM5,21V16.75L18.45,3.32a2,2,0,0,1,2.83,0l1.4,1.43a1.91,1.91,0,0,1,.58,1.4,1.91,1.91,0,0,1-.58,1.4L9.25,21ZM18.45,9,17,7.55Zm-12,3A5.31,5.31,0,0,0,4.9,8.1,5.31,5.31,0,0,0,1,6.5,5.31,5.31,0,0,0,4.9,4.9,5.31,5.31,0,0,0,6.5,1,5.31,5.31,0,0,0,8.1,4.9,5.31,5.31,0,0,0,12,6.5,5.46,5.46,0,0,0,6.5,12Z\"/>\n",
              "  </svg>\n",
              "    </button>\n",
              "    <script>\n",
              "      (() => {\n",
              "      const buttonEl =\n",
              "        document.querySelector('#id_a69fe323-de97-4b61-b37a-20e7f377e865 button.colab-df-generate');\n",
              "      buttonEl.style.display =\n",
              "        google.colab.kernel.accessAllowed ? 'block' : 'none';\n",
              "\n",
              "      buttonEl.onclick = () => {\n",
              "        google.colab.notebook.generateWithVariable('df_inventory');\n",
              "      }\n",
              "      })();\n",
              "    </script>\n",
              "  </div>\n",
              "\n",
              "    </div>\n",
              "  </div>\n"
            ],
            "application/vnd.google.colaboratory.intrinsic+json": {
              "type": "dataframe",
              "variable_name": "df_inventory",
              "summary": "{\n  \"name\": \"df_inventory\",\n  \"rows\": 15,\n  \"fields\": [\n    {\n      \"column\": \"\\u65e5\\u4ed8\",\n      \"properties\": {\n        \"dtype\": \"date\",\n        \"min\": \"2023-05-01 00:00:00\",\n        \"max\": \"2025-06-22 14:44:14.169971\",\n        \"num_unique_values\": 15,\n        \"samples\": [\n          \"2023-05-10 00:00:00\",\n          \"2023-05-12 00:00:00\",\n          \"2023-05-01 00:00:00\"\n        ],\n        \"semantic_type\": \"\",\n        \"description\": \"\"\n      }\n    },\n    {\n      \"column\": \"\\u66dc\\u65e5\",\n      \"properties\": {\n        \"dtype\": \"category\",\n        \"num_unique_values\": 7,\n        \"samples\": [\n          \"Mon\",\n          \"Tue\",\n          \"Sat\"\n        ],\n        \"semantic_type\": \"\",\n        \"description\": \"\"\n      }\n    },\n    {\n      \"column\": \"\\u30c8\\u30de\\u30c8\",\n      \"properties\": {\n        \"dtype\": \"date\",\n        \"min\": 10,\n        \"max\": 106,\n        \"num_unique_values\": 14,\n        \"samples\": [\n          92,\n          49,\n          106\n        ],\n        \"semantic_type\": \"\",\n        \"description\": \"\"\n      }\n    },\n    {\n      \"column\": \"\\u30ad\\u30e3\\u30d9\\u30c4\",\n      \"properties\": {\n        \"dtype\": \"date\",\n        \"min\": 12,\n        \"max\": 103,\n        \"num_unique_values\": 15,\n        \"samples\": [\n          75,\n          40,\n          70\n        ],\n        \"semantic_type\": \"\",\n        \"description\": \"\"\n      }\n    },\n    {\n      \"column\": \"\\u30ec\\u30bf\\u30b9\",\n      \"properties\": {\n        \"dtype\": \"date\",\n        \"min\": 11,\n        \"max\": 103,\n        \"num_unique_values\": 15,\n        \"samples\": [\n          32,\n          60,\n          101\n        ],\n        \"semantic_type\": \"\",\n        \"description\": \"\"\n      }\n    },\n    {\n      \"column\": \"\\u767d\\u83dc\",\n      \"properties\": {\n        \"dtype\": \"date\",\n        \"min\": 10,\n        \"max\": 84,\n        \"num_unique_values\": 14,\n        \"samples\": [\n          29,\n          15,\n          64\n        ],\n        \"semantic_type\": \"\",\n        \"description\": \"\"\n      }\n    },\n    {\n      \"column\": \"\\u307b\\u3046\\u308c\\u3093\\u8349\",\n      \"properties\": {\n        \"dtype\": \"date\",\n        \"min\": 12,\n        \"max\": 104,\n        \"num_unique_values\": 14,\n        \"samples\": [\n          43,\n          27,\n          95\n        ],\n        \"semantic_type\": \"\",\n        \"description\": \"\"\n      }\n    },\n    {\n      \"column\": \"\\u5927\\u6839\",\n      \"properties\": {\n        \"dtype\": \"date\",\n        \"min\": 3,\n        \"max\": 78,\n        \"num_unique_values\": 15,\n        \"samples\": [\n          22,\n          43,\n          65\n        ],\n        \"semantic_type\": \"\",\n        \"description\": \"\"\n      }\n    },\n    {\n      \"column\": \"\\u30cb\\u30f3\\u30b8\\u30f3\",\n      \"properties\": {\n        \"dtype\": \"date\",\n        \"min\": -22,\n        \"max\": 92,\n        \"num_unique_values\": 15,\n        \"samples\": [\n          62,\n          29,\n          68\n        ],\n        \"semantic_type\": \"\",\n        \"description\": \"\"\n      }\n    }\n  ]\n}"
            }
          },
          "metadata": {},
          "execution_count": 20
        }
      ]
    },
    {
      "cell_type": "code",
      "source": [
        "# 更新されたデータフレームを元のExcelファイルに書き込む\n",
        "df_inventory.to_excel('/content/inventory.xlsx', index=False)"
      ],
      "metadata": {
        "id": "VLON84ofRG8S"
      },
      "execution_count": null,
      "outputs": []
    },
    {
      "cell_type": "code",
      "source": [
        "import pandas as pd\n",
        "import smtplib\n",
        "from email.mime.text import MIMEText\n",
        "from email.mime.multipart import MIMEMultipart\n",
        "\n",
        "\n",
        "# ニンジンの注文がマイナスのときだけ送信\n",
        "target_item = summary[(summary['品名'] == 'ニンジン') & (summary['注文'].astype(float) < 0)]\n",
        "\n",
        "# Looking to send emails in production? Check out our Email API/SMTP product!\n",
        "import smtplib\n",
        "\n",
        "item_name = target_item.iloc[0]['品名']\n",
        "order_qty = target_item.iloc[0]['注文']\n",
        "\n",
        "sender = \"Private Person <from@example.com>\"\n",
        "receiver = \"A Test User <to@example.com>\"\n",
        "\n",
        "msg = MIMEMultipart()\n",
        "msg['Subject'] = f\"【追加注文のお願い】{item_name}の注文数不足について\"\n",
        "msg['From'] = sender\n",
        "msg['To'] = receiver\n",
        "\n",
        "body = f\"\"\"\n",
        "お疲れ様です。\n",
        "\n",
        "現在の注文データを確認したところ、「{item_name}」の注文数が {order_qty} となっております。\n",
        "不足分について、至急追加注文の手配をお願いいたします。\n",
        "\n",
        "ご対応のほど、よろしくお願いいたします。\n",
        "\"\"\"\n",
        "\n",
        "msg.attach(MIMEText(body, 'plain', 'utf-8'))\n",
        "\n",
        "with smtplib.SMTP(\"sandbox.smtp.mailtrap.io\", 2525) as server:\n",
        "    server.starttls()\n",
        "    server.login(\"b28a9ad0ab22c9\", \"2898698d4e7969\")\n",
        "    server.sendmail(sender, receiver, msg.as_string())"
      ],
      "metadata": {
        "id": "gYkU0gFIGXHX"
      },
      "execution_count": null,
      "outputs": []
    },
    {
      "cell_type": "code",
      "source": [],
      "metadata": {
        "id": "aUjJZOrZMbt7"
      },
      "execution_count": null,
      "outputs": []
    }
  ]
}