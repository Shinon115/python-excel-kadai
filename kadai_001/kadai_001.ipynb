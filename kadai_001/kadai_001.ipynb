{
  "nbformat": 4,
  "nbformat_minor": 0,
  "metadata": {
    "colab": {
      "provenance": []
    },
    "kernelspec": {
      "name": "python3",
      "display_name": "Python 3"
    },
    "language_info": {
      "name": "python"
    }
  },
  "cells": [
    {
      "cell_type": "code",
      "execution_count": 3,
      "metadata": {
        "colab": {
          "base_uri": "https://localhost:8080/"
        },
        "id": "_KG659MHhgnM",
        "outputId": "ca551d9f-caee-4d93-f27b-ec791546d642"
      },
      "outputs": [
        {
          "output_type": "stream",
          "name": "stdout",
          "text": [
            "Requirement already satisfied: openpyxl in /usr/local/lib/python3.11/dist-packages (3.1.5)\n",
            "Requirement already satisfied: et-xmlfile in /usr/local/lib/python3.11/dist-packages (from openpyxl) (2.0.0)\n",
            "請求書_20250528.xlsx を作成しました。\n"
          ]
        }
      ],
      "source": [
        "# 必要なライブラリのインストール\n",
        "!pip install openpyxl\n",
        "\n",
        "# ライブラリのインポート\n",
        "from openpyxl import Workbook\n",
        "from datetime import datetime\n",
        "\n",
        "# ワークブック作成\n",
        "wb = Workbook()\n",
        "ws = wb.active\n",
        "ws.title = \"請求書\"\n",
        "\n",
        "# 固定情報\n",
        "company_name = \"株式会社ABC\"\n",
        "address = \"〒101-0022 東京都千代田区神田練塀町300\"\n",
        "tel_fax = \"TEL:03-1234-5678 FAX:03-1234-5678\"\n",
        "person_in_charge = \"担当者名:鈴木一郎 様\"\n",
        "today = datetime.today().strftime(\"%Y/%m/%d\")\n",
        "\n",
        "# 請求書の内容を入力\n",
        "ws[\"B2\"] = \"請求書\"\n",
        "ws[\"B4\"] = company_name\n",
        "ws[\"B5\"] = address\n",
        "ws[\"B6\"] = tel_fax\n",
        "ws[\"B7\"] = person_in_charge\n",
        "ws[\"F5\"] = \"日付\"\n",
        "ws[\"G5\"] = today\n",
        "ws[\"F4\"] = \"No.\"\n",
        "ws[\"G4\"] = \"0001\"\n",
        "ws[\"B10\"] = \"商品名\"\n",
        "ws[\"B11\"] = \"商品A\"\n",
        "ws[\"B12\"] = \"商品B\"\n",
        "ws[\"C10\"] = \"数量\"\n",
        "ws[\"C11\"] = 2\n",
        "ws[\"C12\"] = 1\n",
        "ws[\"D10\"] = \"単価\"\n",
        "ws[\"D11\"] = 10000\n",
        "ws[\"D12\"] = 15000\n",
        "ws[\"E10\"] = \"金額\"\n",
        "ws[\"E11\"] = 20000\n",
        "ws[\"E12\"] = 15000\n",
        "ws[\"E13\"] = 35000\n",
        "ws[\"B15\"] = \"小計\"\n",
        "ws[\"B16\"] = \"消費税\"\n",
        "ws[\"B17\"] = \"税込合計\"\n",
        "ws[\"E15\"] = 35000\n",
        "ws[\"E16\"] = 3500\n",
        "ws[\"E17\"] = 38500\n",
        "\n",
        "# ファイル名を作成\n",
        "filename = f\"請求書_{datetime.today().strftime('%Y%m%d')}.xlsx\"\n",
        "\n",
        "# Excelファイルとして保存\n",
        "wb.save(filename)\n",
        "\n",
        "print(f\"{filename} を作成しました。\")"
      ]
    }
  ]
}